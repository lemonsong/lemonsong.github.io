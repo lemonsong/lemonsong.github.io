{
 "cells": [
  {
   "cell_type": "code",
   "execution_count": 1,
   "metadata": {
    "collapsed": true
   },
   "outputs": [],
   "source": [
    "\"\"\"\n",
    "Created on Fri Nov 27 23:01:16 2015\n",
    "\n",
    "@author: yilin\n",
    "\"\"\"\n",
    "# useful code: https://www.kaggle.com/cast42/rossmann-store-sales/xgboost-in-python-with-rmspe-v2/code\n",
    "import pandas as pd\n",
    "import numpy as np\n",
    "import re\n",
    "from dateutil.parser import parse\n",
    "import random\n",
    "import matplotlib.pyplot as plt\n",
    "import seaborn as sns\n",
    "sns.set(context=\"paper\", font=\"monospace\")\n",
    "import plotly\n",
    "import plotly.plotly as py\n",
    "py.sign_in('lemonsong', '3lcplsq1a3')\n",
    "import plotly.graph_objs as go\n",
    "\n",
    "#import datetime\n",
    "\n",
    "from sklearn.utils import shuffle\n",
    "from sklearn import preprocessing"
   ]
  },
  {
   "cell_type": "code",
   "execution_count": 2,
   "metadata": {
    "collapsed": true
   },
   "outputs": [],
   "source": [
    "## Load data"
   ]
  },
  {
   "cell_type": "code",
   "execution_count": 3,
   "metadata": {
    "collapsed": false
   },
   "outputs": [],
   "source": [
    "types = {'CompetitionOpenSinceYear': np.dtype(int),\n",
    "         'CompetitionOpenSinceMonth': np.dtype(int),\n",
    "         'StateHoliday': np.dtype(str),\n",
    "         'Promo2SinceWeek': np.dtype(int),\n",
    "         'SchoolHoliday': np.dtype(float),\n",
    "         'PromoInterval': np.dtype(str)}\n",
    "dateparse = lambda x: pd.datetime.strptime(x, '%Y-%m-%d')\n",
    "#dateparse = lambda x: pd.datetime.strptime(x, \"%Y-%m-%dT%H:%M:%SZ\")\n",
    "\n",
    "dftrain = pd.read_csv('train.csv',parse_dates=[2], date_parser=dateparse, dtype=types)\n",
    "dfstore = pd.read_csv('store.csv')\n",
    "df = pd.merge(dftrain, dfstore, on='Store')\n",
    "dftest = pd.read_csv('test.csv',parse_dates=[3], date_parser=dateparse, dtype=types)\n",
    "dt = pd.merge(dftest, dfstore, on='Store')"
   ]
  },
  {
   "cell_type": "markdown",
   "metadata": {},
   "source": [
    "## Preprocess data"
   ]
  },
  {
   "cell_type": "code",
   "execution_count": 4,
   "metadata": {
    "collapsed": false
   },
   "outputs": [],
   "source": [
    "# function to calculate how many weeks the store has taken promo2 as Promo2Week\n",
    "def Promo2WeekCal(sinceweek,sinceyear,week,year):\n",
    "    return (year-sinceyear)*52-sinceweek+week\n",
    "    \n",
    "# dictionary for map PromoInterval\n",
    "month2int_dict = {'Jan':1, 'Feb':2, 'Mar':3, 'Apr':4, 'May':5, 'Jun':6,              'Jul':7, 'Aug':8, 'Sept':9, 'Oct':10, 'Nov':11, 'Dec':12}\n",
    "# function to calculate how many month the promo2 has going on\n",
    "def Promo2MonthCal(x,y):\n",
    "    x=x.split(',')\n",
    "    for i in range(0,len(x)):\n",
    "        x[i]=month2int_dict[x[i]]\n",
    "    x.insert(0,x[0]-3)\n",
    "    x.append(x[-1]+3)\n",
    "    for i in range(0,len(x)-1):\n",
    "        if y>=x[i] and y<x[i+1]:\n",
    "            return int(y-x[i])\n",
    "    \n",
    "def dummyvariable(dataframe,colname):\n",
    "    dummy = pd.get_dummies(dataframe[colname],prefix=colname)\n",
    "    dataframe = dataframe.join(dummy.ix[:, colname:]).drop(colname,1)\n",
    "    return dataframe\n",
    "\n",
    "def CompetitorCal(distance):\n",
    "    if np.isnan(distance):\n",
    "        return int(0)\n",
    "    else:\n",
    "        return int(1)\n",
    "    \n",
    "def prepro(dataframe,features0,features1):\n",
    "    # Assume store open, if not provided\n",
    "    dataframe['Open'].fillna(1, inplace=True)\n",
    "    # Only consider data open==1 and sales > 0\n",
    "    dataframe = dataframe[(dataframe['Open'] ==1) & (dataframe['Sales'] > 0)]\n",
    "    dataframe = dataframe[(dataframe['StateHoliday'] ==\"0\") | (dataframe['StateHoliday'] == \"a\")]\n",
    "    # Create year, month, day and week\n",
    "    dataframe['Year'] = dataframe.Date.dt.year\n",
    "    dataframe['Month'] = dataframe.Date.dt.month\n",
    "    dataframe['Day'] = dataframe.Date.dt.day\n",
    "    dataframe['Week'] = dataframe.Date.dt.week\n",
    "\n",
    "    \n",
    "    # Create dummy variables for StoreType\n",
    "    dataframe = dummyvariable(dataframe,'StoreType')\n",
    "    # Create dummy variables for Assortment\n",
    "    dataframe = dummyvariable(dataframe,'Assortment')\n",
    "    # Create dummy variables for StateHoliday\n",
    "    dataframe = dummyvariable(dataframe,'StateHoliday')\n",
    "    \n",
    "    #dataframe = dataframe[('StateHoliday_b'==0) & ('StateHoliday_c'==0)]\n",
    "\n",
    "    \n",
    "    # Calculate how many month the store has competed with its competitor\n",
    "    dataframe['CompetitionMonth']=12 * (dataframe.Year - dataframe.CompetitionOpenSinceYear) +         (dataframe.Month - dataframe.CompetitionOpenSinceMonth)\n",
    "        \n",
    "    #\n",
    "    dataframe['HaveCompetitor'] = dataframe.apply(        lambda x:CompetitorCal(x['CompetitionDistance']), axis=1)\n",
    "        \n",
    "    mean_CompetitionDistance=dataframe[['CompetitionDistance']].mean(axis=0)\n",
    "    dataframe['CompetitionDistance']=dataframe[['CompetitionDistance']].fillna(mean_CompetitionDistance)\n",
    "    mean_CompetitionMonth=dataframe[['CompetitionMonth']].mean(axis=0)\n",
    "    dataframe['CompetitionMonth']=dataframe[['CompetitionMonth']].fillna(mean_CompetitionMonth)\n",
    "\n",
    "    # calculate how many weeks the store has taken promo2 as Promo2Week\n",
    "    dataframe['Promo2Week']=dataframe.query('Promo2==1').apply(        lambda x:Promo2WeekCal(x['Promo2SinceWeek'],x['Promo2SinceYear'],x['Week'],x['Year']), axis=1)\n",
    "        \n",
    "    # calculate how many month the promo2 has going on since las promo2 as Promo2Month\n",
    "    dataframe['Promo2Month']=dataframe.query('Promo2==1').apply(        lambda x:Promo2MonthCal(x['PromoInterval'],x['Month']), axis=1)\n",
    "    \n",
    "    dataframe0 = dataframe[(dataframe['Promo2'] == 0)]\n",
    "    dataframe1 = dataframe[(dataframe['Promo2'] == 1)]\n",
    "\n",
    "\n",
    "    x0=dataframe0[features0]\n",
    "    x1=dataframe1[features1]\n",
    "\n",
    "    return x0,x1\n",
    "\n",
    "\n",
    "    \n",
    "# replace \"Date\" with \"Year\",\"Month\",\"Day\",\"Week\"\n",
    "# replace \"StoreType\" with \"StoreType_a\",\"StoreType_b\",\"StoreType_c\",\"StoreType_d\"   \n",
    "# replace \"Assortment\" with \"Assortment_a\",\"Assortment_b\",\"Assortment_c\"\n",
    "# replace \"StateHoliday\" with \"StateHoliday_0\",\"StateHoliday_a\",\"StateHoliday_b\",\"StateHoliday_c\",\n",
    "# delete \"StateHoliday_b\",\"StateHoliday_c\" because Kaggle test data does not have these two type of date\n",
    "# replace \"CompetitionOpenSinceMonth\",\"CompetitionOpenSinceYear\" with \"CompetitionMonth\"\n",
    "# replace \"PromoInterval\" with \"Promo2Month\"\n",
    "# replace \"\"Promo2SinceWeek\",\"Promo2SinceYear\" with \"Promo2Week\"\n",
    "# delete target variabel \"Sales\"\n",
    "# delete \"Promo2\"\n",
    "# delete \"Promo2Month\",\"Promo2Week\" for records with \"Promo2\"==0\n",
    "# delete \"Customer\" because Kaggle test does not have this information\n",
    "\n",
    "features0=[\"Store\",\"DayOfWeek\",\"Promo\",\"SchoolHoliday\",\n",
    "          \"HaveCompetitor\",\"CompetitionDistance\",\n",
    "          \"Year\",\"Month\",\"Day\",\"Week\",\n",
    "          \"StoreType_a\",\"StoreType_b\",\"StoreType_c\",\"StoreType_d\",\n",
    "          \"Assortment_a\",\"Assortment_b\",\"Assortment_c\",\n",
    "           \"StateHoliday_0\",\"StateHoliday_a\",\n",
    "          \"CompetitionMonth\",'Customers','Sales'\n",
    "          ]\n",
    "features1=[\"Store\",\"DayOfWeek\",\"Promo\",\"SchoolHoliday\",\n",
    "          \"HaveCompetitor\",\"CompetitionDistance\",\n",
    "          \"Year\",\"Month\",\"Day\",\"Week\",\n",
    "          \"StoreType_a\",\"StoreType_b\",\"StoreType_c\",\"StoreType_d\",\n",
    "          \"Assortment_a\",\"Assortment_b\",\"Assortment_c\",\n",
    "         \"StateHoliday_0\",\"StateHoliday_a\",\n",
    "          \"CompetitionMonth\",\n",
    "          \"Promo2Month\",\"Promo2Week\",'Customers','Sales'\n",
    "          ]\n",
    "x0,x1 = prepro(df,features0,features1)"
   ]
  },
  {
   "cell_type": "code",
   "execution_count": 5,
   "metadata": {
    "collapsed": true
   },
   "outputs": [],
   "source": [
    "def preprotest(dataframe,features0,features1):\n",
    "    # Assume store open, if not provided\n",
    "    dataframe['Open'].fillna(1, inplace=True)\n",
    "\n",
    "    # Create year, month, day and week\n",
    "    dataframe['Year'] = dataframe.Date.dt.year\n",
    "    dataframe['Month'] = dataframe.Date.dt.month\n",
    "    dataframe['Day'] = dataframe.Date.dt.day\n",
    "    dataframe['Week'] = dataframe.Date.dt.week\n",
    "\n",
    "    \n",
    "    # Create dummy variables for StoreType\n",
    "    dataframe = dummyvariable(dataframe,'StoreType')\n",
    "    # Create dummy variables for Assortment\n",
    "    dataframe = dummyvariable(dataframe,'Assortment')\n",
    "    # Create dummy variables for StateHoliday\n",
    "    dataframe = dummyvariable(dataframe,'StateHoliday')\n",
    "    \n",
    "    # Calculate how many month the store has competed with its competitor\n",
    "    dataframe['CompetitionMonth']=12 * (dataframe.Year - dataframe.CompetitionOpenSinceYear) +         (dataframe.Month - dataframe.CompetitionOpenSinceMonth)\n",
    "        \n",
    "    #\n",
    "    dataframe['HaveCompetitor'] = dataframe.apply(        lambda x:CompetitorCal(x['CompetitionDistance']), axis=1)\n",
    "        \n",
    "    mean_CompetitionDistance=dataframe[['CompetitionDistance']].mean(axis=0)\n",
    "    dataframe['CompetitionDistance']=dataframe[['CompetitionDistance']].fillna(mean_CompetitionDistance)\n",
    "    mean_CompetitionMonth=dataframe[['CompetitionMonth']].mean(axis=0)\n",
    "    dataframe['CompetitionMonth']=dataframe[['CompetitionMonth']].fillna(mean_CompetitionMonth)\n",
    "\n",
    "    # calculate how many weeks the store has taken promo2 as Promo2Week\n",
    "    dataframe['Promo2Week']=dataframe.query('Promo2==1').apply(        lambda x:Promo2WeekCal(x['Promo2SinceWeek'],x['Promo2SinceYear'],x['Week'],x['Year']), axis=1)\n",
    "        \n",
    "    # calculate how many month the promo2 has going on since las promo2 as Promo2Month\n",
    "    dataframe['Promo2Month']=dataframe.query('Promo2==1').apply(        lambda x:Promo2MonthCal(x['PromoInterval'],x['Month']), axis=1)\n",
    "        \n",
    "    # Only consider data open==1 \n",
    "    dataframe0 = dataframe[(dataframe['Open'] ==1) & (dataframe['Promo2'] == 0)]\n",
    "    dataframe1 = dataframe[(dataframe['Open'] ==1) & (dataframe['Promo2'] == 1)]\n",
    "\n",
    "    x0=dataframe0[features_test0]\n",
    "    x1=dataframe1[features_test1]\n",
    "\n",
    "    return x0,x1\n",
    "    \n",
    "# replace \"Date\" with \"Year\",\"Month\",\"Day\",\"Week\"\n",
    "# replace \"StoreType\" with \"StoreType_a\",\"StoreType_b\",\"StoreType_c\",\"StoreType_d\"   \n",
    "# replace \"Assortment\" with \"Assortment_a\",\"Assortment_b\",\"Assortment_c\"\n",
    "# replace \"StateHoliday\" with \"StateHoliday_0\",\"StateHoliday_a\",\"StateHoliday_b\",\"StateHoliday_c\",\n",
    "# delete \"StateHoliday_b\",\"StateHoliday_c\" because Kaggle test data does not have these two type of date\n",
    "# replace \"CompetitionOpenSinceMonth\",\"CompetitionOpenSinceYear\" with \"CompetitionMonth\"\n",
    "# replace \"PromoInterval\" with \"Promo2Month\"\n",
    "# replace \"\"Promo2SinceWeek\",\"Promo2SinceYear\" with \"Promo2Week\"\n",
    "# delete target variabel \"Sales\"\n",
    "# delete \"Promo2\"\n",
    "# delete \"Promo2Month\",\"Promo2Week\" for records with \"Promo2\"==0\n",
    "# delete \"Customer\" because Kaggle test does not have this information\n",
    "\n",
    "\n",
    "features_test0=[\"Id\",\"Store\",\"DayOfWeek\",\"Promo\",\"SchoolHoliday\",\n",
    "          \"HaveCompetitor\",\"CompetitionDistance\",\n",
    "          \"Year\",\"Month\",\"Day\",\"Week\",\n",
    "          \"StoreType_a\",\"StoreType_b\",\"StoreType_c\",\"StoreType_d\",\n",
    "          \"Assortment_a\",\"Assortment_b\",\"Assortment_c\",\n",
    "           \"StateHoliday_0\",\"StateHoliday_a\",\n",
    "          \"CompetitionMonth\"\n",
    "          ]\n",
    "features_test1=[\"Id\",\"Store\",\"DayOfWeek\",\"Promo\",\"SchoolHoliday\",\n",
    "          \"HaveCompetitor\",\"CompetitionDistance\",\n",
    "          \"Year\",\"Month\",\"Day\",\"Week\",\n",
    "          \"StoreType_a\",\"StoreType_b\",\"StoreType_c\",\"StoreType_d\",\n",
    "          \"Assortment_a\",\"Assortment_b\",\"Assortment_c\",\n",
    "            \"StateHoliday_0\",\"StateHoliday_a\",\n",
    "          \"CompetitionMonth\",\n",
    "          \"Promo2Month\",\"Promo2Week\"\n",
    "          ]"
   ]
  },
  {
   "cell_type": "code",
   "execution_count": 6,
   "metadata": {
    "collapsed": false
   },
   "outputs": [],
   "source": [
    "dt0,dt1 = preprotest(dt,features_test0,features_test1)\n"
   ]
  },
  {
   "cell_type": "code",
   "execution_count": 7,
   "metadata": {
    "collapsed": true
   },
   "outputs": [],
   "source": [
    "x0.to_csv(\"train0forkagglewtcustomer.csv\", index=False)\n",
    "x1.to_csv(\"train1forkagglewtcustomer.csv\", index=False)"
   ]
  },
  {
   "cell_type": "code",
   "execution_count": 8,
   "metadata": {
    "collapsed": false
   },
   "outputs": [],
   "source": [
    "dt0.to_csv(\"pre0.csv\", index=False)\n",
    "dt1.to_csv(\"pre1.csv\", index=False)"
   ]
  },
  {
   "cell_type": "code",
   "execution_count": null,
   "metadata": {
    "collapsed": true
   },
   "outputs": [],
   "source": []
  }
 ],
 "metadata": {
  "kernelspec": {
   "display_name": "Python 2",
   "language": "python",
   "name": "python2"
  },
  "language_info": {
   "codemirror_mode": {
    "name": "ipython",
    "version": 2
   },
   "file_extension": ".py",
   "mimetype": "text/x-python",
   "name": "python",
   "nbconvert_exporter": "python",
   "pygments_lexer": "ipython2",
   "version": "2.7.10"
  }
 },
 "nbformat": 4,
 "nbformat_minor": 0
}
