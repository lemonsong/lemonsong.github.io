{
 "cells": [
  {
   "cell_type": "code",
   "execution_count": 191,
   "metadata": {
    "collapsed": true
   },
   "outputs": [],
   "source": [
    "# -*- coding: utf-8 -*-\n",
    "\"\"\"\n",
    "Created on Fri Nov 27 23:01:16 2015\n",
    "\n",
    "@author: yilin\n",
    "\"\"\"\n",
    "# useful code: https://www.kaggle.com/cast42/rossmann-store-sales/xgboost-in-python-with-rmspe-v2/code\n",
    "import pandas as pd\n",
    "import numpy as np\n",
    "import re\n",
    "from dateutil.parser import parse\n",
    "import random\n",
    "import matplotlib.pyplot as plt\n",
    "import seaborn as sns\n",
    "sns.set(context=\"paper\", font=\"monospace\")\n",
    "import plotly\n",
    "import plotly.plotly as py\n",
    "py.sign_in('lemonsong', '3lcplsq1a3')\n",
    "import plotly.graph_objs as go\n",
    "\n",
    "#import datetime\n",
    "\n",
    "from sklearn.utils import shuffle\n",
    "from sklearn import preprocessing\n",
    "from numpy import float32\n",
    "from sklearn.preprocessing import Imputer"
   ]
  },
  {
   "cell_type": "code",
   "execution_count": 265,
   "metadata": {
    "collapsed": true
   },
   "outputs": [],
   "source": [
    "def getxy(x):\n",
    "    y = x.Sales\n",
    "    x.drop('Sales', axis=1, inplace=True)\n",
    "    #x.drop('Store', axis=1, inplace=True)\n",
    "    return x,y"
   ]
  },
  {
   "cell_type": "code",
   "execution_count": 325,
   "metadata": {
    "collapsed": true
   },
   "outputs": [],
   "source": [
    "data = pd.read_csv(\"train0forkagglewtcustomer.csv\")\n",
    "data1 = pd.read_csv(\"train1forkagglewtcustomer.csv\")"
   ]
  },
  {
   "cell_type": "code",
   "execution_count": 311,
   "metadata": {
    "collapsed": false
   },
   "outputs": [],
   "source": [
    "data = pd.read_csv(\"train0forkagglewtcustomer.csv\")\n",
    "data = data[(data['Year']==2013) & (data['Month']==7) | (data['Year']==2014) & (data['Month']==7)  |\\\n",
    "            (data['Year']==2013) & (data['Month']==8) | (data['Year']==2014) & (data['Month']==8) |\\\n",
    "            (data['Year']==2013) & (data['Month']==9) | (data['Year']==2014) & (data['Month']==9) |\\\n",
    "           (data['Year']==2015) & (data['Month']==6) | (data['Year']==2014) & (data['Month']==5) |\n",
    "           (data['Year']==2015) & (data['Month']==7) ]\n",
    "data1 = pd.read_csv(\"train1forkagglewtcustomer.csv\")\n",
    "data1 = data1[(data1['Year']==2013) & (data1['Month']==7) | (data1['Year']==2014) & (data1['Month']==7)  |\\\n",
    "            (data1['Year']==2013) & (data1['Month']==8) | (data1['Year']==2014) & (data1['Month']==8) |\\\n",
    "            (data1['Year']==2013) & (data1['Month']==9) | (data1['Year']==2014) & (data1['Month']==9) |\\\n",
    "           (data1['Year']==2015) & (data1['Month']==6) | (data1['Year']==2014) & (data1['Month']==5) |\n",
    "           (data1['Year']==2015) & (data1['Month']==7) ]\n"
   ]
  },
  {
   "cell_type": "code",
   "execution_count": 312,
   "metadata": {
    "collapsed": false
   },
   "outputs": [],
   "source": [
    "data=pd.DataFrame(data)\n",
    "data.to_csv(\"bigml0.csv\", index=False)\n",
    "data1=pd.DataFrame(data1)"
   ]
  },
  {
   "cell_type": "code",
   "execution_count": 219,
   "metadata": {
    "collapsed": true
   },
   "outputs": [],
   "source": [
    "data = pd.read_csv(\"train0forkagglewtcustomer.csv\")\n",
    "data = data[(data['Year']==2015) & (data['Month']==6) | (data['Year']==2014) & (data['Month']==5) |\n",
    "           (data['Year']==2015) & (data['Month']==7) ]\n",
    "data1 = pd.read_csv(\"train1forkagglewtcustomer.csv\")\n",
    "data1 = data1[(data1['Year']==2015) & (data1['Month']==6) | (data1['Year']==2014) & (data1['Month']==5) |\n",
    "           (data1['Year']==2015) & (data1['Month']==7) ]"
   ]
  },
  {
   "cell_type": "code",
   "execution_count": 242,
   "metadata": {
    "collapsed": true
   },
   "outputs": [],
   "source": [
    "data = pd.read_csv(\"train0forkagglewtcustomer.csv\")\n",
    "data = data[(data['Year']==2013) & (data['Month']==7) | (data['Year']==2014) & (data['Month']==7)  |\\\n",
    "            (data['Year']==2013) & (data['Month']==8) | (data['Year']==2014) & (data['Month']==8) |\\\n",
    "            (data['Year']==2013) & (data['Month']==9) | (data['Year']==2014) & (data['Month']==9)]\n",
    "data1 = pd.read_csv(\"train1forkagglewtcustomer.csv\")\n",
    "data1 = data1[(data1['Year']==2013) & (data1['Month']==7) | (data1['Year']==2014) & (data1['Month']==7)  |\\\n",
    "            (data1['Year']==2013) & (data1['Month']==8) | (data1['Year']==2014) & (data1['Month']==8) |\\\n",
    "            (data1['Year']==2013) & (data1['Month']==9) | (data1['Year']==2014) & (data1['Month']==9)]"
   ]
  },
  {
   "cell_type": "code",
   "execution_count": 267,
   "metadata": {
    "collapsed": false
   },
   "outputs": [],
   "source": [
    "x,y=getxy(data)\n",
    "x1,y1=getxy(data1)\n"
   ]
  },
  {
   "cell_type": "markdown",
   "metadata": {},
   "source": [
    "## Split Data"
   ]
  },
  {
   "cell_type": "code",
   "execution_count": 268,
   "metadata": {
    "collapsed": false
   },
   "outputs": [],
   "source": [
    "def splitdata(x,y):# Split data into train and test\n",
    "    train, test = shuffle(x,y, random_state=15)\n",
    "    offset = int(train.shape[0] * 0.7)\n",
    "    x_train, y_train = train[:offset], test[:offset]\n",
    "    x_test, y_test = train[offset:], test[offset:]\n",
    "    return x_train, y_train,x_test, y_test"
   ]
  },
  {
   "cell_type": "code",
   "execution_count": 269,
   "metadata": {
    "collapsed": true
   },
   "outputs": [],
   "source": [
    "x_train, y_train,x_test, y_test = splitdata(x,y)"
   ]
  },
  {
   "cell_type": "code",
   "execution_count": 270,
   "metadata": {
    "collapsed": false
   },
   "outputs": [
    {
     "name": "stdout",
     "output_type": "stream",
     "text": [
      "Index([u'Store', u'DayOfWeek', u'Promo', u'SchoolHoliday', u'HaveCompetitor',\n",
      "       u'CompetitionDistance', u'Year', u'Month', u'Day', u'Week',\n",
      "       u'StoreType_a', u'StoreType_b', u'StoreType_c', u'StoreType_d',\n",
      "       u'Assortment_a', u'Assortment_b', u'Assortment_c', u'StateHoliday_0',\n",
      "       u'StateHoliday_a', u'CompetitionMonth', u'Customers'],\n",
      "      dtype='object')\n"
     ]
    }
   ],
   "source": [
    "print x_train.columns"
   ]
  },
  {
   "cell_type": "code",
   "execution_count": 271,
   "metadata": {
    "collapsed": true
   },
   "outputs": [],
   "source": [
    "x_train1, y_train1,x_test1, y_test1 = splitdata(x1,y1)"
   ]
  },
  {
   "cell_type": "markdown",
   "metadata": {},
   "source": [
    "## Builde Model"
   ]
  },
  {
   "cell_type": "markdown",
   "metadata": {},
   "source": [
    "##### DT"
   ]
  },
  {
   "cell_type": "code",
   "execution_count": 272,
   "metadata": {
    "collapsed": true
   },
   "outputs": [],
   "source": [
    "from sklearn import tree\n",
    "clf2 = tree.DecisionTreeRegressor(max_features='auto')\n",
    "clf2.fit(x_train, y_train)\n",
    "y_pred2 = clf2.predict(x_test)"
   ]
  },
  {
   "cell_type": "code",
   "execution_count": 273,
   "metadata": {
    "collapsed": true
   },
   "outputs": [],
   "source": [
    "from sklearn import tree\n",
    "clf12 = tree.DecisionTreeRegressor(max_features='auto')\n",
    "clf12.fit(x_train1, y_train1)\n",
    "y_pred12 = clf12.predict(x_test1)"
   ]
  },
  {
   "cell_type": "markdown",
   "metadata": {},
   "source": [
    "##### KNN"
   ]
  },
  {
   "cell_type": "code",
   "execution_count": 274,
   "metadata": {
    "collapsed": true
   },
   "outputs": [],
   "source": [
    "from sklearn.neighbors import KNeighborsRegressor\n",
    "clf3 = KNeighborsRegressor(n_neighbors=5,weights='distance',algorithm='auto')\n",
    "clf3.fit(x_train, y_train)\n",
    "y_pred3=clf3.predict(x_test)"
   ]
  },
  {
   "cell_type": "code",
   "execution_count": 275,
   "metadata": {
    "collapsed": true
   },
   "outputs": [],
   "source": [
    "from sklearn.neighbors import KNeighborsRegressor\n",
    "clf13 = KNeighborsRegressor(n_neighbors=10,weights='distance',algorithm='auto')\n",
    "clf13.fit(x_train1, y_train1)\n",
    "y_pred13=clf13.predict(x_test1)"
   ]
  },
  {
   "cell_type": "markdown",
   "metadata": {},
   "source": [
    "##### RF"
   ]
  },
  {
   "cell_type": "code",
   "execution_count": 276,
   "metadata": {
    "collapsed": false
   },
   "outputs": [],
   "source": [
    "from sklearn.ensemble import RandomForestRegressor\n",
    "clf4 = RandomForestRegressor(n_estimators=300)\n",
    "clf4.fit(x_train, y_train)\n",
    "y_pred4=clf4.predict(x_test)"
   ]
  },
  {
   "cell_type": "code",
   "execution_count": 277,
   "metadata": {
    "collapsed": true
   },
   "outputs": [],
   "source": [
    "from sklearn.ensemble import RandomForestRegressor\n",
    "clf14 = RandomForestRegressor(n_estimators=300)\n",
    "clf14.fit(x_train1, y_train1)\n",
    "y_pred14=clf14.predict(x_test1)"
   ]
  },
  {
   "cell_type": "markdown",
   "metadata": {},
   "source": [
    "#### Feature Importance"
   ]
  },
  {
   "cell_type": "code",
   "execution_count": 289,
   "metadata": {
    "collapsed": false
   },
   "outputs": [],
   "source": [
    "def getfeature_importance(df,clf):\n",
    "    feature_importance= pd.concat([pd.Series(list(df.columns),name='Feature'),\\\n",
    "                               pd.Series(clf.feature_importances_,name='Importance')],\\\n",
    "                              axis=1).sort(['Importance'], ascending=[1])\n",
    "    return feature_importance"
   ]
  },
  {
   "cell_type": "code",
   "execution_count": 290,
   "metadata": {
    "collapsed": true
   },
   "outputs": [],
   "source": [
    "feature_importance=getfeature_importance(x_train,clf4)\n",
    "feature_importance1=getfeature_importance(x_train1,clf14)\n"
   ]
  },
  {
   "cell_type": "code",
   "execution_count": 291,
   "metadata": {
    "collapsed": false
   },
   "outputs": [
    {
     "name": "stdout",
     "output_type": "stream",
     "text": [
      "                Feature  Importance_x  Importance_y\n",
      "0        HaveCompetitor      0.000033      0.000005\n",
      "1        StateHoliday_a      0.000065      0.000018\n",
      "2        StateHoliday_0      0.000071      0.000018\n",
      "3         SchoolHoliday      0.000902      0.001177\n",
      "4           StoreType_c      0.001294      0.001040\n",
      "5                 Month      0.001297      0.001600\n",
      "6           StoreType_a      0.001703      0.001779\n",
      "7          Assortment_a      0.002244      0.002869\n",
      "8          Assortment_c      0.002447      0.002820\n",
      "9                  Year      0.003039      0.004429\n",
      "10                 Week      0.003800      0.004933\n",
      "11                  Day      0.005641      0.009144\n",
      "12            DayOfWeek      0.009455      0.014090\n",
      "13          StoreType_b      0.013134      0.013617\n",
      "14         Assortment_b      0.014945      0.013282\n",
      "15     CompetitionMonth      0.017033      0.019052\n",
      "16          StoreType_d      0.033185      0.054346\n",
      "17                Store      0.035426      0.031710\n",
      "18                Promo      0.035536      0.066964\n",
      "19  CompetitionDistance      0.048419      0.060506\n",
      "20            Customers      0.770330      0.670496\n",
      "21          Promo2Month           NaN      0.002017\n",
      "22           Promo2Week           NaN      0.024087\n"
     ]
    }
   ],
   "source": [
    "featureimportance = pd.merge(feature_importance,feature_importance1,on=\"Feature\", how='outer')\n",
    "\n",
    "print featureimportance\n",
    "featureimportance.to_csv(\"featureimportance.csv\", index=False)\n"
   ]
  },
  {
   "cell_type": "code",
   "execution_count": 292,
   "metadata": {
    "collapsed": true
   },
   "outputs": [],
   "source": [
    "%matplotlib inline\n",
    "\n",
    "trace1 = go.Bar(\n",
    "    y=featureimportance.Feature,\n",
    "    x=featureimportance.Importance_x,\n",
    "    name='Promo2==0',\n",
    "    orientation = 'h',\n",
    "    marker = dict(\n",
    "        color = 'rgba(55, 128, 191, 0.6)',\n",
    "        line = dict(\n",
    "            color = 'rgba(55, 128, 191, 1.0)',\n",
    "            width = 1,\n",
    "        )\n",
    "    )\n",
    ")\n",
    "trace2 = go.Bar(\n",
    "    y=featureimportance.Feature,\n",
    "    x=featureimportance.Importance_y,\n",
    "    name='Promo2==1',\n",
    "    orientation = 'h',\n",
    "    marker = dict(\n",
    "        color = 'rgba(255, 153, 51, 0.6)',\n",
    "        line = dict(\n",
    "            color = 'rgba(255, 153, 51, 1.0)',\n",
    "            width = 1,\n",
    "        )\n",
    "    )\n",
    ")\n",
    "data = [trace1, trace2]\n",
    "layout = go.Layout(\n",
    "    barmode='group'\n",
    ")\n",
    "fig = go.Figure(data=data, layout=layout)\n",
    "plot_url = py.plot(fig, filename='marker-h-bar')"
   ]
  },
  {
   "cell_type": "code",
   "execution_count": 293,
   "metadata": {
    "collapsed": false
   },
   "outputs": [
    {
     "data": {
      "text/html": [
       "<iframe id=\"igraph\" scrolling=\"no\" style=\"border:none;\"seamless=\"seamless\" src=\"https://plot.ly/~lemonsong/43.embed\" height=\"525\" width=\"100%\"></iframe>"
      ],
      "text/plain": [
       "<plotly.tools.PlotlyDisplay object>"
      ]
     },
     "execution_count": 293,
     "metadata": {},
     "output_type": "execute_result"
    }
   ],
   "source": [
    "import plotly.tools as tls\n",
    "\n",
    "tls.embed(\"https://plot.ly/~lemonsong/43/promo20-vs-promo21/\")"
   ]
  },
  {
   "cell_type": "markdown",
   "metadata": {},
   "source": [
    "###### Predict based on average of three algorithm"
   ]
  },
  {
   "cell_type": "code",
   "execution_count": 29,
   "metadata": {
    "collapsed": false
   },
   "outputs": [],
   "source": [
    "predcollect=pd.concat([pd.Series(y_pred2,name='dt'),pd.Series(y_pred3,name='knn'),pd.Series(y_pred4,name='rf')], axis=1)"
   ]
  },
  {
   "cell_type": "code",
   "execution_count": 30,
   "metadata": {
    "collapsed": false
   },
   "outputs": [],
   "source": [
    "pred1collect=pd.concat([pd.Series(y_pred12,name='dt'),pd.Series(y_pred13,name='knn'),pd.Series(y_pred14,name='rf')], axis=1)"
   ]
  },
  {
   "cell_type": "code",
   "execution_count": 31,
   "metadata": {
    "collapsed": true
   },
   "outputs": [],
   "source": [
    "predavg= predcollect.mean(axis=1)"
   ]
  },
  {
   "cell_type": "code",
   "execution_count": 32,
   "metadata": {
    "collapsed": false
   },
   "outputs": [],
   "source": [
    "pred1avg= pred1collect.mean(axis=1)"
   ]
  },
  {
   "cell_type": "markdown",
   "metadata": {},
   "source": [
    "## Evaluation"
   ]
  },
  {
   "cell_type": "code",
   "execution_count": 254,
   "metadata": {
    "collapsed": true
   },
   "outputs": [],
   "source": [
    "def rmspe(y, yhat):\n",
    "    return np.sqrt(np.mean((yhat/y-1) ** 2))\n",
    "\n",
    "def rmspe_xg(yhat, y):\n",
    "    y = np.expm1(y)\n",
    "    yhat = np.expm1(yhat)\n",
    "    print y\n",
    "    return \"rmspe\", rmspe(y,yhat)"
   ]
  },
  {
   "cell_type": "markdown",
   "metadata": {},
   "source": [
    "Function to calculate RMSPE for both Promo2==0 and Promo2==1 test"
   ]
  },
  {
   "cell_type": "code",
   "execution_count": 255,
   "metadata": {
    "collapsed": false
   },
   "outputs": [],
   "source": [
    "def compare(y_test,y_pred,y_test1,y_pred1):\n",
    "    y_test=np.append(y_test,y_test1)\n",
    "    y_pred=np.append(y_pred,y_pred1)\n",
    "    return rmspe(y_test,y_pred)"
   ]
  },
  {
   "cell_type": "markdown",
   "metadata": {},
   "source": [
    "##### DT"
   ]
  },
  {
   "cell_type": "markdown",
   "metadata": {},
   "source": [
    "Promo2==0"
   ]
  },
  {
   "cell_type": "code",
   "execution_count": 256,
   "metadata": {
    "collapsed": false
   },
   "outputs": [
    {
     "name": "stdout",
     "output_type": "stream",
     "text": [
      "0.103550818995\n"
     ]
    }
   ],
   "source": [
    "print rmspe(y_test,y_pred2)"
   ]
  },
  {
   "cell_type": "markdown",
   "metadata": {},
   "source": [
    "Promo2==1"
   ]
  },
  {
   "cell_type": "code",
   "execution_count": 257,
   "metadata": {
    "collapsed": false
   },
   "outputs": [
    {
     "name": "stdout",
     "output_type": "stream",
     "text": [
      "0.130232097084\n"
     ]
    }
   ],
   "source": [
    "print rmspe(y_test1,y_pred12)"
   ]
  },
  {
   "cell_type": "markdown",
   "metadata": {},
   "source": [
    "Promo2==0 & Promo2==1"
   ]
  },
  {
   "cell_type": "code",
   "execution_count": 258,
   "metadata": {
    "collapsed": false
   },
   "outputs": [
    {
     "name": "stdout",
     "output_type": "stream",
     "text": [
      "0.117093827408\n"
     ]
    }
   ],
   "source": [
    "print compare(y_test,y_pred2,y_test1,y_pred12)"
   ]
  },
  {
   "cell_type": "markdown",
   "metadata": {},
   "source": [
    "##### KNN"
   ]
  },
  {
   "cell_type": "code",
   "execution_count": 259,
   "metadata": {
    "collapsed": false
   },
   "outputs": [
    {
     "name": "stdout",
     "output_type": "stream",
     "text": [
      "0.0827110382687\n"
     ]
    }
   ],
   "source": [
    "print rmspe(y_test,y_pred3)"
   ]
  },
  {
   "cell_type": "code",
   "execution_count": 260,
   "metadata": {
    "collapsed": false
   },
   "outputs": [
    {
     "name": "stdout",
     "output_type": "stream",
     "text": [
      "0.0901338125419\n"
     ]
    }
   ],
   "source": [
    "print rmspe(y_test1,y_pred13)"
   ]
  },
  {
   "cell_type": "code",
   "execution_count": 261,
   "metadata": {
    "collapsed": false
   },
   "outputs": [
    {
     "name": "stdout",
     "output_type": "stream",
     "text": [
      "0.0863466452436\n"
     ]
    }
   ],
   "source": [
    "print compare(y_test,y_pred3,y_test1,y_pred13)"
   ]
  },
  {
   "cell_type": "markdown",
   "metadata": {},
   "source": [
    "##### RF"
   ]
  },
  {
   "cell_type": "code",
   "execution_count": 262,
   "metadata": {
    "collapsed": false
   },
   "outputs": [
    {
     "name": "stdout",
     "output_type": "stream",
     "text": [
      "0.0703702331174\n"
     ]
    }
   ],
   "source": [
    "print rmspe(y_test,y_pred4)"
   ]
  },
  {
   "cell_type": "code",
   "execution_count": 263,
   "metadata": {
    "collapsed": false
   },
   "outputs": [
    {
     "name": "stdout",
     "output_type": "stream",
     "text": [
      "0.0799880772887\n"
     ]
    }
   ],
   "source": [
    "print rmspe(y_test1,y_pred14)"
   ]
  },
  {
   "cell_type": "code",
   "execution_count": 264,
   "metadata": {
    "collapsed": false
   },
   "outputs": [
    {
     "name": "stdout",
     "output_type": "stream",
     "text": [
      "0.0751315384619\n"
     ]
    }
   ],
   "source": [
    "print compare(y_test,y_pred4,y_test1,y_pred14)"
   ]
  },
  {
   "cell_type": "markdown",
   "metadata": {},
   "source": [
    "##### Average method\n",
    "Predict sales based on average of predictions from three algorithms"
   ]
  },
  {
   "cell_type": "code",
   "execution_count": 33,
   "metadata": {
    "collapsed": false
   },
   "outputs": [
    {
     "name": "stdout",
     "output_type": "stream",
     "text": [
      "0.850845818724\n"
     ]
    }
   ],
   "source": [
    "print rmspe(y_test,predavg)"
   ]
  },
  {
   "cell_type": "code",
   "execution_count": 34,
   "metadata": {
    "collapsed": false
   },
   "outputs": [
    {
     "name": "stdout",
     "output_type": "stream",
     "text": [
      "0.823322014024\n"
     ]
    }
   ],
   "source": [
    "print rmspe(y_test1,pred1avg)"
   ]
  },
  {
   "cell_type": "code",
   "execution_count": 35,
   "metadata": {
    "collapsed": false
   },
   "outputs": [
    {
     "name": "stdout",
     "output_type": "stream",
     "text": [
      "0.0699363310493\n"
     ]
    }
   ],
   "source": [
    "print compare(y_test,predavg,y_test1,pred1avg)"
   ]
  },
  {
   "cell_type": "markdown",
   "metadata": {},
   "source": [
    "#### Export Decision Tree"
   ]
  },
  {
   "cell_type": "code",
   "execution_count": 287,
   "metadata": {
    "collapsed": false
   },
   "outputs": [],
   "source": [
    "tree.export_graphviz(clf2,out_file='tree0.dot',max_depth=8)"
   ]
  },
  {
   "cell_type": "code",
   "execution_count": 288,
   "metadata": {
    "collapsed": true
   },
   "outputs": [],
   "source": [
    "tree.export_graphviz(clf12,out_file='tree1.dot',max_depth=8)"
   ]
  },
  {
   "cell_type": "code",
   "execution_count": null,
   "metadata": {
    "collapsed": true
   },
   "outputs": [],
   "source": []
  },
  {
   "cell_type": "markdown",
   "metadata": {},
   "source": [
    "## Make Prediction"
   ]
  },
  {
   "cell_type": "code",
   "execution_count": 294,
   "metadata": {
    "collapsed": false
   },
   "outputs": [],
   "source": [
    "def makeprediction(testfile,feature,clf):\n",
    "    #train_x = pd.read_csv(trainfile).astype(float32)\n",
    "    pre_x = pd.read_csv(testfile).astype(float32)\n",
    "    #print np.all(np.isfinite(train_x))\n",
    "    print np.all(np.isfinite(pre_x))\n",
    "    \n",
    "    \n",
    "    #train_x,train_y=getxy(train_x)\n",
    "    \n",
    "    \n",
    "    pre_y = clf.predict(pre_x[feature])\n",
    "    prediction = pd.concat([pre_x, pd.Series(pre_y,name='Sales')], axis=1)\n",
    "\n",
    "    return prediction\n",
    "feature0=[\"Store\",\"DayOfWeek\",\"Promo\",\"SchoolHoliday\",'HaveCompetitor',\n",
    "          \"CompetitionDistance\",\n",
    "          \"Year\",\"Month\",\"Day\",\"Week\",\n",
    "          \"StoreType_a\",\"StoreType_b\",\"StoreType_c\",\"StoreType_d\",\n",
    "          \"Assortment_a\",\"Assortment_b\",\"Assortment_c\",\n",
    "           \"StateHoliday_0\",\"StateHoliday_a\",\n",
    "          \"CompetitionMonth\",'Customers'\n",
    "          ]\n",
    "feature1=[\"Store\",\"DayOfWeek\",\"Promo\",\"SchoolHoliday\",'HaveCompetitor',\n",
    "          \"CompetitionDistance\",\n",
    "          \"Year\",\"Month\",\"Day\",\"Week\",\n",
    "          \"StoreType_a\",\"StoreType_b\",\"StoreType_c\",\"StoreType_d\",\n",
    "          \"Assortment_a\",\"Assortment_b\",\"Assortment_c\",\n",
    "            \"StateHoliday_0\",\"StateHoliday_a\",\n",
    "          \"CompetitionMonth\",\n",
    "          \"Promo2Month\",\"Promo2Week\",'Customers'\n",
    "          ]"
   ]
  },
  {
   "cell_type": "code",
   "execution_count": 295,
   "metadata": {
    "collapsed": false
   },
   "outputs": [
    {
     "name": "stdout",
     "output_type": "stream",
     "text": [
      "True\n"
     ]
    }
   ],
   "source": [
    "prediction0=makeprediction('pre0wtcustomers.csv',feature0,clf4)\n"
   ]
  },
  {
   "cell_type": "code",
   "execution_count": 296,
   "metadata": {
    "collapsed": false
   },
   "outputs": [
    {
     "name": "stdout",
     "output_type": "stream",
     "text": [
      "True\n"
     ]
    }
   ],
   "source": [
    "prediction1=makeprediction('pre1wtcustomers.csv',feature1,clf14)\n"
   ]
  },
  {
   "cell_type": "markdown",
   "metadata": {},
   "source": [
    "#### average method\n",
    "When make submission based on average prediction of three algorithms, use this part"
   ]
  },
  {
   "cell_type": "code",
   "execution_count": null,
   "metadata": {
    "collapsed": false
   },
   "outputs": [],
   "source": [
    "prediction02=makeprediction('pre0.csv',feature0,clf2)\n",
    "prediction03=makeprediction('pre0.csv',feature0,clf3)\n",
    "prediction04=makeprediction('pre0.csv',feature0,clf4)\n"
   ]
  },
  {
   "cell_type": "code",
   "execution_count": null,
   "metadata": {
    "collapsed": false
   },
   "outputs": [],
   "source": [
    "prediction12=makeprediction('pre1.csv',feature1,clf12)\n",
    "prediction13=makeprediction('pre1.csv',feature1,clf13)\n",
    "prediction14=makeprediction('pre1.csv',feature1,clf14)\n"
   ]
  },
  {
   "cell_type": "code",
   "execution_count": null,
   "metadata": {
    "collapsed": false
   },
   "outputs": [],
   "source": [
    "def mergeavg(predition2,predition3,predition4):\n",
    "    predcollect=pd.concat([pd.Series(predition2,name='dt'),pd.Series(predition3,name='knn'),pd.Series(predition4,name='rf')], axis=1)\n",
    "    predavg= predcollect.mean(axis=1)\n",
    "    return predavg"
   ]
  },
  {
   "cell_type": "code",
   "execution_count": null,
   "metadata": {
    "collapsed": false
   },
   "outputs": [],
   "source": [
    "prediction0=mergeavg(prediction02.Sales,prediction03.Sales,prediction04.Sales)"
   ]
  },
  {
   "cell_type": "code",
   "execution_count": null,
   "metadata": {
    "collapsed": true
   },
   "outputs": [],
   "source": [
    "prediction1=mergeavg(prediction12.Sales,prediction13.Sales,prediction14.Sales)"
   ]
  },
  {
   "cell_type": "code",
   "execution_count": null,
   "metadata": {
    "collapsed": true
   },
   "outputs": [],
   "source": [
    "def generatepreforsub(filename,pred):\n",
    "    pre_x = pd.read_csv(filename).astype(float32)\n",
    "    prediction = pd.concat([pre_x.Id, pd.Series(pred,name='Sales')], axis=1)\n",
    "    return prediction"
   ]
  },
  {
   "cell_type": "code",
   "execution_count": null,
   "metadata": {
    "collapsed": false
   },
   "outputs": [],
   "source": [
    "prediction0=generatepreforsub('pre0.csv',prediction0)"
   ]
  },
  {
   "cell_type": "code",
   "execution_count": null,
   "metadata": {
    "collapsed": true
   },
   "outputs": [],
   "source": [
    "prediction1=generatepreforsub('pre1.csv',prediction1)"
   ]
  },
  {
   "cell_type": "markdown",
   "metadata": {},
   "source": [
    "## Make Submission"
   ]
  },
  {
   "cell_type": "code",
   "execution_count": 313,
   "metadata": {
    "collapsed": false
   },
   "outputs": [
    {
     "name": "stdout",
     "output_type": "stream",
     "text": [
      "35104\n"
     ]
    }
   ],
   "source": [
    "prediction_sub0=pd.DataFrame(prediction0[[\"Id\",\"Sales\"]],columns=[\"Id\",\"Sales\"])\n",
    "prediction_sub1=pd.DataFrame(prediction1[[\"Id\",\"Sales\"]],columns=[\"Id\",\"Sales\"])\n",
    "\n",
    "prediction_sub=pd.concat([prediction_sub0,prediction_sub1])\n",
    "print len(prediction_sub)\n",
    "submission = pd.read_csv(\"submission.csv\")\n",
    "submission = pd.merge(submission,prediction_sub,on=\"Id\", how='outer')\n",
    "submission.fillna(0, inplace=True)"
   ]
  },
  {
   "cell_type": "code",
   "execution_count": 298,
   "metadata": {
    "collapsed": true
   },
   "outputs": [],
   "source": [
    "submission.to_csv(\"submission4.csv\", index=False)"
   ]
  },
  {
   "cell_type": "markdown",
   "metadata": {
    "collapsed": true
   },
   "source": [
    "## Generat Data for Advance Analysis"
   ]
  },
  {
   "cell_type": "markdown",
   "metadata": {},
   "source": [
    "Only includ test and prediction of test with open==1 or open==null"
   ]
  },
  {
   "cell_type": "code",
   "execution_count": 326,
   "metadata": {
    "collapsed": false
   },
   "outputs": [],
   "source": [
    "prediction0.to_csv(\"prediction0.csv\", index=False)\n",
    "prediction1.to_csv(\"prediction1.csv\", index=False)"
   ]
  },
  {
   "cell_type": "code",
   "execution_count": 327,
   "metadata": {
    "collapsed": false
   },
   "outputs": [
    {
     "name": "stdout",
     "output_type": "stream",
     "text": [
      "   Store  DayOfWeek  Promo  SchoolHoliday  StateHoliday_0  StateHoliday_a  \\\n",
      "0      1          4      1              0               1               0   \n",
      "1      1          3      1              0               1               0   \n",
      "2      1          2      1              0               1               0   \n",
      "3      1          1      1              0               1               0   \n",
      "4      1          6      0              0               1               0   \n",
      "\n",
      "   Year  Month  Day  StoreType_a  StoreType_b  StoreType_c  StoreType_d  \\\n",
      "0  2015      9   17            0            0            1            0   \n",
      "1  2015      9   16            0            0            1            0   \n",
      "2  2015      9   15            0            0            1            0   \n",
      "3  2015      9   14            0            0            1            0   \n",
      "4  2015      9   12            0            0            1            0   \n",
      "\n",
      "   Assortment_a  Assortment_b  Assortment_c   Customers        Sales  Promo2  \n",
      "0             1             0             0  484.890015  3674.843333       0  \n",
      "1             1             0             0  516.349976  3914.896667       0  \n",
      "2             1             0             0  527.690002  3905.466667       0  \n",
      "3             1             0             0  579.429993  5384.690000       0  \n",
      "4             1             0             0  513.880005  4214.560000       0  \n"
     ]
    }
   ],
   "source": [
    "fet=[\"Store\",\"DayOfWeek\",\"Promo\",\"SchoolHoliday\",\"StateHoliday_0\",\"StateHoliday_a\",\n",
    "          \"Year\",\"Month\",\"Day\",\n",
    "          \"StoreType_a\",\"StoreType_b\",\"StoreType_c\",\"StoreType_d\",\n",
    "          \"Assortment_a\",\"Assortment_b\",\"Assortment_c\",\n",
    "            \"Customers\",\"Sales\"]\n",
    "prediction_ana0=pd.DataFrame(prediction0[fet])\n",
    "prediction_ana0[\"Promo2\"]=0\n",
    "print prediction_ana0.head()\n",
    "prediction_ana1=pd.DataFrame(prediction1[fet])\n",
    "prediction_ana0[\"Promo2\"]=1\n",
    "data_ana0=pd.DataFrame(data[fet])\n",
    "prediction_ana0[\"Promo2\"]=0\n",
    "data_ana1=pd.DataFrame(data1[fet])\n",
    "prediction_ana0[\"Promo2\"]=1\n",
    "prediction_ana=pd.concat([prediction_ana0,prediction_ana1,data_ana0,data_ana1])"
   ]
  },
  {
   "cell_type": "markdown",
   "metadata": {},
   "source": [
    "#### Creat Date column"
   ]
  },
  {
   "cell_type": "code",
   "execution_count": 328,
   "metadata": {
    "collapsed": false
   },
   "outputs": [],
   "source": [
    "y = np.array(prediction_ana['Year']-1970, dtype='<M8[Y]')\n",
    "m = np.array(prediction_ana['Month']-1, dtype='<m8[M]')\n",
    "d = np.array(prediction_ana['Day']-1, dtype='<m8[D]')\n",
    "prediction_ana['Date'] = pd.Series(y+m+d)"
   ]
  },
  {
   "cell_type": "code",
   "execution_count": 329,
   "metadata": {
    "collapsed": false
   },
   "outputs": [
    {
     "name": "stdout",
     "output_type": "stream",
     "text": [
      "Assortment_a             float64\n",
      "Assortment_b             float64\n",
      "Assortment_c             float64\n",
      "Customers                float64\n",
      "Day                      float64\n",
      "DayOfWeek                float64\n",
      "Month                    float64\n",
      "Promo                    float64\n",
      "Promo2                   float64\n",
      "Sales                    float64\n",
      "SchoolHoliday            float64\n",
      "StateHoliday_0           float64\n",
      "StateHoliday_a           float64\n",
      "Store                    float64\n",
      "StoreType_a              float64\n",
      "StoreType_b              float64\n",
      "StoreType_c              float64\n",
      "StoreType_d              float64\n",
      "Year                     float64\n",
      "Date              datetime64[ns]\n",
      "dtype: object\n"
     ]
    }
   ],
   "source": [
    "print prediction_ana.dtypes"
   ]
  },
  {
   "cell_type": "code",
   "execution_count": 330,
   "metadata": {
    "collapsed": false
   },
   "outputs": [
    {
     "name": "stdout",
     "output_type": "stream",
     "text": [
      "   Assortment_a  Assortment_b  Assortment_c   Customers  Day  DayOfWeek  \\\n",
      "0             1             0             0  484.890015   17          4   \n",
      "1             1             0             0  516.349976   16          3   \n",
      "2             1             0             0  527.690002   15          2   \n",
      "3             1             0             0  579.429993   14          1   \n",
      "4             1             0             0  513.880005   12          6   \n",
      "\n",
      "   Month  Promo  Promo2        Sales  SchoolHoliday  StateHoliday_0  \\\n",
      "0      9      1       1  3674.843333              0               1   \n",
      "1      9      1       1  3914.896667              0               1   \n",
      "2      9      1       1  3905.466667              0               1   \n",
      "3      9      1       1  5384.690000              0               1   \n",
      "4      9      0       1  4214.560000              0               1   \n",
      "\n",
      "   StateHoliday_a  Store  StoreType_a  StoreType_b  StoreType_c  StoreType_d  \\\n",
      "0               0      1            0            0            1            0   \n",
      "1               0      1            0            0            1            0   \n",
      "2               0      1            0            0            1            0   \n",
      "3               0      1            0            0            1            0   \n",
      "4               0      1            0            0            1            0   \n",
      "\n",
      "   Year       Date  \n",
      "0  2015 2015-09-17  \n",
      "1  2015 2015-09-16  \n",
      "2  2015 2015-09-15  \n",
      "3  2015 2015-09-14  \n",
      "4  2015 2015-09-12  \n"
     ]
    }
   ],
   "source": [
    "print prediction_ana.head()"
   ]
  },
  {
   "cell_type": "code",
   "execution_count": 331,
   "metadata": {
    "collapsed": false
   },
   "outputs": [],
   "source": [
    "prediction_ana.drop([\"Day\",\"Month\",\"Year\"], axis=1, inplace=True)"
   ]
  },
  {
   "cell_type": "markdown",
   "metadata": {},
   "source": [
    "### Sales and Customers Prediction by Date"
   ]
  },
  {
   "cell_type": "code",
   "execution_count": 332,
   "metadata": {
    "collapsed": false
   },
   "outputs": [],
   "source": [
    "gr_date=prediction_ana.groupby(['Date'])"
   ]
  },
  {
   "cell_type": "code",
   "execution_count": 333,
   "metadata": {
    "collapsed": true
   },
   "outputs": [],
   "source": [
    "gr_date_sales=gr_date.agg({'Customers' : 'mean', 'Sales' : 'mean'})"
   ]
  },
  {
   "cell_type": "code",
   "execution_count": 334,
   "metadata": {
    "collapsed": false
   },
   "outputs": [
    {
     "name": "stdout",
     "output_type": "stream",
     "text": [
      "             Customers        Sales\n",
      "Date                               \n",
      "2013-01-01  832.227273  7404.090909\n",
      "2013-01-02  767.874747  6994.882828\n",
      "2013-01-03  773.235830  7062.363360\n",
      "2013-01-04  761.178138  6975.305668\n",
      "2013-01-05  766.191684  7009.895538\n"
     ]
    }
   ],
   "source": [
    "print gr_date_sales.head()"
   ]
  },
  {
   "cell_type": "code",
   "execution_count": 335,
   "metadata": {
    "collapsed": false
   },
   "outputs": [
    {
     "data": {
      "text/html": [
       "<iframe id=\"igraph\" scrolling=\"no\" style=\"border:none;\"seamless=\"seamless\" src=\"https://plot.ly/~lemonsong/54.embed\" height=\"525\" width=\"100%\"></iframe>"
      ],
      "text/plain": [
       "<plotly.tools.PlotlyDisplay object>"
      ]
     },
     "execution_count": 335,
     "metadata": {},
     "output_type": "execute_result"
    }
   ],
   "source": [
    "trace1 = go.Scatter(\n",
    "    x=gr_date_sales.index,\n",
    "    y=gr_date_sales.Customers,\n",
    "    name='Customers',\n",
    "    line=dict(\n",
    "        color='#ae32e4',\n",
    "        width = 1 ,\n",
    "        \n",
    "    )\n",
    ")\n",
    "trace2 = go.Scatter(\n",
    "    x=gr_date_sales.index,\n",
    "    y=gr_date_sales.Sales,\n",
    "    name='Sales',\n",
    "    mode = 'lines+markers',\n",
    "    yaxis='y2',\n",
    "    line=dict(\n",
    "        color='#3268e4',\n",
    "        width = 1 \n",
    "        ),\n",
    "    opacity=0.8\n",
    ")\n",
    "data = [trace1, trace2]\n",
    "layout = go.Layout(\n",
    "    title='Time Series of Prediction',\n",
    "    yaxis=dict(\n",
    "        title='Customers'\n",
    "    ),\n",
    "    yaxis2=dict(\n",
    "        title='Sales',\n",
    "        titlefont=dict(\n",
    "            color='rgb(174,50,228)'\n",
    "        ),\n",
    "        tickfont=dict(\n",
    "            color='rgb(174,50,228)'\n",
    "        ),\n",
    "        overlaying='y',\n",
    "        side='right'\n",
    "    )\n",
    ")\n",
    "fig = go.Figure(data=data, layout=layout)\n",
    "plot_url = py.plot(fig, filename='multiple-axes-double')\n",
    "tls.embed(\"https://plot.ly/~lemonsong/54/time-series-of-prediction/\")"
   ]
  },
  {
   "cell_type": "code",
   "execution_count": 336,
   "metadata": {
    "collapsed": true
   },
   "outputs": [],
   "source": [
    "gr_assortment=prediction_ana\n"
   ]
  },
  {
   "cell_type": "code",
   "execution_count": 337,
   "metadata": {
    "collapsed": false
   },
   "outputs": [],
   "source": [
    "#gr_assortment.query('Assortment_a==1')['Assortment']='basic'\n",
    "gr_assortment.ix[gr_assortment.Assortment_a==1, 'Assortment'] = 'basic'\n",
    "gr_assortment.ix[gr_assortment.Assortment_b==1, 'Assortment'] = 'extra'\n",
    "gr_assortment.ix[gr_assortment.Assortment_c==1, 'Assortment'] = 'extended'\n",
    "\n",
    "gr_assortment.drop(['Assortment_a','Assortment_b','Assortment_c'], axis=1, inplace=True)"
   ]
  },
  {
   "cell_type": "code",
   "execution_count": 338,
   "metadata": {
    "collapsed": false
   },
   "outputs": [
    {
     "name": "stdout",
     "output_type": "stream",
     "text": [
      "Index([u'Customers', u'DayOfWeek', u'Promo', u'Promo2', u'Sales',\n",
      "       u'SchoolHoliday', u'StateHoliday_0', u'StateHoliday_a', u'Store',\n",
      "       u'StoreType_a', u'StoreType_b', u'StoreType_c', u'StoreType_d', u'Date',\n",
      "       u'Assortment'],\n",
      "      dtype='object')\n"
     ]
    }
   ],
   "source": [
    "print gr_assortment.columns"
   ]
  },
  {
   "cell_type": "code",
   "execution_count": 339,
   "metadata": {
    "collapsed": false
   },
   "outputs": [
    {
     "data": {
      "text/html": [
       "<div>\n",
       "<table border=\"1\" class=\"dataframe\">\n",
       "  <thead>\n",
       "    <tr style=\"text-align: right;\">\n",
       "      <th></th>\n",
       "      <th>Assortment</th>\n",
       "      <th>DayOfWeek</th>\n",
       "      <th>Customers</th>\n",
       "      <th>Store</th>\n",
       "      <th>Coustomers_by_store</th>\n",
       "    </tr>\n",
       "  </thead>\n",
       "  <tbody>\n",
       "    <tr>\n",
       "      <th>0</th>\n",
       "      <td>basic</td>\n",
       "      <td>1</td>\n",
       "      <td>63852110.939697</td>\n",
       "      <td>75512</td>\n",
       "      <td>845.588925</td>\n",
       "    </tr>\n",
       "    <tr>\n",
       "      <th>1</th>\n",
       "      <td>basic</td>\n",
       "      <td>2</td>\n",
       "      <td>60317516.748489</td>\n",
       "      <td>78987</td>\n",
       "      <td>763.638532</td>\n",
       "    </tr>\n",
       "    <tr>\n",
       "      <th>2</th>\n",
       "      <td>basic</td>\n",
       "      <td>3</td>\n",
       "      <td>56956555.221161</td>\n",
       "      <td>77892</td>\n",
       "      <td>731.224711</td>\n",
       "    </tr>\n",
       "    <tr>\n",
       "      <th>3</th>\n",
       "      <td>basic</td>\n",
       "      <td>4</td>\n",
       "      <td>54820759.229858</td>\n",
       "      <td>73927</td>\n",
       "      <td>741.552602</td>\n",
       "    </tr>\n",
       "    <tr>\n",
       "      <th>4</th>\n",
       "      <td>basic</td>\n",
       "      <td>5</td>\n",
       "      <td>57778947.551147</td>\n",
       "      <td>75730</td>\n",
       "      <td>762.959825</td>\n",
       "    </tr>\n",
       "    <tr>\n",
       "      <th>5</th>\n",
       "      <td>basic</td>\n",
       "      <td>6</td>\n",
       "      <td>48806490.477905</td>\n",
       "      <td>78964</td>\n",
       "      <td>618.085336</td>\n",
       "    </tr>\n",
       "    <tr>\n",
       "      <th>6</th>\n",
       "      <td>basic</td>\n",
       "      <td>7</td>\n",
       "      <td>1793533.239441</td>\n",
       "      <td>1039</td>\n",
       "      <td>1726.211010</td>\n",
       "    </tr>\n",
       "    <tr>\n",
       "      <th>7</th>\n",
       "      <td>extended</td>\n",
       "      <td>1</td>\n",
       "      <td>55911744.629669</td>\n",
       "      <td>66735</td>\n",
       "      <td>837.817407</td>\n",
       "    </tr>\n",
       "    <tr>\n",
       "      <th>8</th>\n",
       "      <td>extended</td>\n",
       "      <td>2</td>\n",
       "      <td>52371614.009567</td>\n",
       "      <td>69720</td>\n",
       "      <td>751.170597</td>\n",
       "    </tr>\n",
       "    <tr>\n",
       "      <th>9</th>\n",
       "      <td>extended</td>\n",
       "      <td>3</td>\n",
       "      <td>49878672.819870</td>\n",
       "      <td>68774</td>\n",
       "      <td>725.254788</td>\n",
       "    </tr>\n",
       "    <tr>\n",
       "      <th>10</th>\n",
       "      <td>extended</td>\n",
       "      <td>4</td>\n",
       "      <td>48556544.109848</td>\n",
       "      <td>65433</td>\n",
       "      <td>742.080359</td>\n",
       "    </tr>\n",
       "    <tr>\n",
       "      <th>11</th>\n",
       "      <td>extended</td>\n",
       "      <td>5</td>\n",
       "      <td>51473334.070618</td>\n",
       "      <td>66774</td>\n",
       "      <td>770.858928</td>\n",
       "    </tr>\n",
       "    <tr>\n",
       "      <th>12</th>\n",
       "      <td>extended</td>\n",
       "      <td>6</td>\n",
       "      <td>47731133.938538</td>\n",
       "      <td>69685</td>\n",
       "      <td>684.955642</td>\n",
       "    </tr>\n",
       "    <tr>\n",
       "      <th>13</th>\n",
       "      <td>extended</td>\n",
       "      <td>7</td>\n",
       "      <td>991295.099731</td>\n",
       "      <td>1510</td>\n",
       "      <td>656.486821</td>\n",
       "    </tr>\n",
       "    <tr>\n",
       "      <th>14</th>\n",
       "      <td>extra</td>\n",
       "      <td>1</td>\n",
       "      <td>2561143.219238</td>\n",
       "      <td>1203</td>\n",
       "      <td>2128.963607</td>\n",
       "    </tr>\n",
       "    <tr>\n",
       "      <th>15</th>\n",
       "      <td>extra</td>\n",
       "      <td>2</td>\n",
       "      <td>2521112.621094</td>\n",
       "      <td>1236</td>\n",
       "      <td>2039.735130</td>\n",
       "    </tr>\n",
       "    <tr>\n",
       "      <th>16</th>\n",
       "      <td>extra</td>\n",
       "      <td>3</td>\n",
       "      <td>2509097.530151</td>\n",
       "      <td>1227</td>\n",
       "      <td>2044.904263</td>\n",
       "    </tr>\n",
       "    <tr>\n",
       "      <th>17</th>\n",
       "      <td>extra</td>\n",
       "      <td>4</td>\n",
       "      <td>2567180.448975</td>\n",
       "      <td>1220</td>\n",
       "      <td>2104.246270</td>\n",
       "    </tr>\n",
       "    <tr>\n",
       "      <th>18</th>\n",
       "      <td>extra</td>\n",
       "      <td>5</td>\n",
       "      <td>2677645.900391</td>\n",
       "      <td>1195</td>\n",
       "      <td>2240.707866</td>\n",
       "    </tr>\n",
       "    <tr>\n",
       "      <th>19</th>\n",
       "      <td>extra</td>\n",
       "      <td>6</td>\n",
       "      <td>2224878.769287</td>\n",
       "      <td>1230</td>\n",
       "      <td>1808.844528</td>\n",
       "    </tr>\n",
       "    <tr>\n",
       "      <th>20</th>\n",
       "      <td>extra</td>\n",
       "      <td>7</td>\n",
       "      <td>2662687.199341</td>\n",
       "      <td>1233</td>\n",
       "      <td>2159.519221</td>\n",
       "    </tr>\n",
       "  </tbody>\n",
       "</table>\n",
       "</div>"
      ],
      "text/plain": [
       "   Assortment  DayOfWeek        Customers  Store  Coustomers_by_store\n",
       "0       basic          1  63852110.939697  75512           845.588925\n",
       "1       basic          2  60317516.748489  78987           763.638532\n",
       "2       basic          3  56956555.221161  77892           731.224711\n",
       "3       basic          4  54820759.229858  73927           741.552602\n",
       "4       basic          5  57778947.551147  75730           762.959825\n",
       "5       basic          6  48806490.477905  78964           618.085336\n",
       "6       basic          7   1793533.239441   1039          1726.211010\n",
       "7    extended          1  55911744.629669  66735           837.817407\n",
       "8    extended          2  52371614.009567  69720           751.170597\n",
       "9    extended          3  49878672.819870  68774           725.254788\n",
       "10   extended          4  48556544.109848  65433           742.080359\n",
       "11   extended          5  51473334.070618  66774           770.858928\n",
       "12   extended          6  47731133.938538  69685           684.955642\n",
       "13   extended          7    991295.099731   1510           656.486821\n",
       "14      extra          1   2561143.219238   1203          2128.963607\n",
       "15      extra          2   2521112.621094   1236          2039.735130\n",
       "16      extra          3   2509097.530151   1227          2044.904263\n",
       "17      extra          4   2567180.448975   1220          2104.246270\n",
       "18      extra          5   2677645.900391   1195          2240.707866\n",
       "19      extra          6   2224878.769287   1230          1808.844528\n",
       "20      extra          7   2662687.199341   1233          2159.519221"
      ]
     },
     "execution_count": 339,
     "metadata": {},
     "output_type": "execute_result"
    }
   ],
   "source": [
    "gr_assortment1=gr_assortment.groupby(['Assortment', 'DayOfWeek'])\n",
    "gr_assortment1=gr_assortment1.agg({ 'Customers' : 'sum','Store':'count'}).reset_index()\n",
    "gr_assortment1['Coustomers_by_store']=gr_assortment1['Customers']/gr_assortment1['Store']\n",
    "gr_assortment1"
   ]
  },
  {
   "cell_type": "code",
   "execution_count": 340,
   "metadata": {
    "collapsed": false
   },
   "outputs": [
    {
     "name": "stdout",
     "output_type": "stream",
     "text": [
      "DayOfWeek             1            2            3            4            5  \\\n",
      "Assortment                                                                    \n",
      "basic        845.588925   763.638532   731.224711   741.552602   762.959825   \n",
      "extended     837.817407   751.170597   725.254788   742.080359   770.858928   \n",
      "extra       2128.963607  2039.735130  2044.904263  2104.246270  2240.707866   \n",
      "\n",
      "DayOfWeek             6            7  \n",
      "Assortment                            \n",
      "basic        618.085336  1726.211010  \n",
      "extended     684.955642   656.486821  \n",
      "extra       1808.844528  2159.519221  \n"
     ]
    }
   ],
   "source": [
    "gr_assortment2=gr_assortment1.pivot('Assortment', 'DayOfWeek', 'Coustomers_by_store')\n",
    "print gr_assortment2"
   ]
  },
  {
   "cell_type": "code",
   "execution_count": 341,
   "metadata": {
    "collapsed": false
   },
   "outputs": [
    {
     "data": {
      "text/html": [
       "<iframe id=\"igraph\" scrolling=\"no\" style=\"border:none;\"seamless=\"seamless\" src=\"https://plot.ly/~lemonsong/80.embed\" height=\"525\" width=\"100%\"></iframe>"
      ],
      "text/plain": [
       "<plotly.tools.PlotlyDisplay object>"
      ]
     },
     "execution_count": 341,
     "metadata": {},
     "output_type": "execute_result"
    }
   ],
   "source": [
    "data = [\n",
    "    go.Heatmap(\n",
    "        z=gr_assortment2.values,\n",
    "        x=gr_assortment2.columns,\n",
    "        y=gr_assortment2.index,\n",
    "        colorscale=[[0, '\"rgb(228, 174, 50)\"'],[1, 'rgb(174, 50, 228)']]\n",
    "    )\n",
    "]\n",
    "layout = go.Layout(\n",
    "    title='Average Customers',\n",
    "    yaxis=dict(\n",
    "        title='Assortment',\n",
    "    ),\n",
    "    xaxis=dict(\n",
    "        type=\"category\",\n",
    "        title='WeekOfDay',\n",
    "    )\n",
    ")\n",
    "fig = go.Figure(data=data, layout=layout)\n",
    "plot_url = py.plot(fig, filename='labelled-heatmap')\n",
    "tls.embed(\"https://plot.ly/~lemonsong/80/average-sales/\")"
   ]
  },
  {
   "cell_type": "code",
   "execution_count": 342,
   "metadata": {
    "collapsed": true
   },
   "outputs": [],
   "source": [
    "gr_store=prediction_ana"
   ]
  },
  {
   "cell_type": "code",
   "execution_count": 343,
   "metadata": {
    "collapsed": false
   },
   "outputs": [],
   "source": [
    "gr_store=gr_store.groupby(['Store'])\n",
    "gr_store_sales=gr_store.agg({'Customers' : 'sum', 'Sales' : 'sum','Promo':'sum','Promo2':'sum'}).reset_index()"
   ]
  },
  {
   "cell_type": "code",
   "execution_count": 344,
   "metadata": {
    "collapsed": false
   },
   "outputs": [],
   "source": [
    "gr_store1=pd.merge(gr_store_sales,prediction_ana[['Store','Assortment']],on=\"Store\", how='left').drop_duplicates()"
   ]
  },
  {
   "cell_type": "code",
   "execution_count": 345,
   "metadata": {
    "collapsed": false
   },
   "outputs": [
    {
     "data": {
      "text/html": [
       "<div>\n",
       "<table border=\"1\" class=\"dataframe\">\n",
       "  <thead>\n",
       "    <tr style=\"text-align: right;\">\n",
       "      <th></th>\n",
       "      <th>Store</th>\n",
       "      <th>Promo</th>\n",
       "      <th>Customers</th>\n",
       "      <th>Promo2</th>\n",
       "      <th>Sales</th>\n",
       "      <th>Assortment</th>\n",
       "    </tr>\n",
       "  </thead>\n",
       "  <tbody>\n",
       "    <tr>\n",
       "      <th>0</th>\n",
       "      <td>1</td>\n",
       "      <td>369</td>\n",
       "      <td>461401.890045</td>\n",
       "      <td>41</td>\n",
       "      <td>3886087.213333</td>\n",
       "      <td>basic</td>\n",
       "    </tr>\n",
       "    <tr>\n",
       "      <th>822</th>\n",
       "      <td>2</td>\n",
       "      <td>354</td>\n",
       "      <td>457855.000000</td>\n",
       "      <td>NaN</td>\n",
       "      <td>3883858.000000</td>\n",
       "      <td>basic</td>\n",
       "    </tr>\n",
       "    <tr>\n",
       "      <th>1606</th>\n",
       "      <td>3</td>\n",
       "      <td>369</td>\n",
       "      <td>612658.549927</td>\n",
       "      <td>NaN</td>\n",
       "      <td>5696661.756667</td>\n",
       "      <td>basic</td>\n",
       "    </tr>\n",
       "    <tr>\n",
       "      <th>2426</th>\n",
       "      <td>4</td>\n",
       "      <td>353</td>\n",
       "      <td>1036254.000000</td>\n",
       "      <td>NaN</td>\n",
       "      <td>7556507.000000</td>\n",
       "      <td>extended</td>\n",
       "    </tr>\n",
       "    <tr>\n",
       "      <th>3210</th>\n",
       "      <td>5</td>\n",
       "      <td>351</td>\n",
       "      <td>418588.000000</td>\n",
       "      <td>NaN</td>\n",
       "      <td>3642818.000000</td>\n",
       "      <td>basic</td>\n",
       "    </tr>\n",
       "  </tbody>\n",
       "</table>\n",
       "</div>"
      ],
      "text/plain": [
       "      Store  Promo       Customers  Promo2           Sales Assortment\n",
       "0         1    369   461401.890045      41  3886087.213333      basic\n",
       "822       2    354   457855.000000     NaN  3883858.000000      basic\n",
       "1606      3    369   612658.549927     NaN  5696661.756667      basic\n",
       "2426      4    353  1036254.000000     NaN  7556507.000000   extended\n",
       "3210      5    351   418588.000000     NaN  3642818.000000      basic"
      ]
     },
     "execution_count": 345,
     "metadata": {},
     "output_type": "execute_result"
    }
   ],
   "source": [
    "gr_store1.head()"
   ]
  },
  {
   "cell_type": "code",
   "execution_count": 346,
   "metadata": {
    "collapsed": true
   },
   "outputs": [],
   "source": [
    "gr_store1_assort=gr_store1.groupby(['Assortment'])\n",
    "gr_store_sales_agg=gr_store1_assort.agg({'Customers' : 'sum', 'Sales' : 'sum','Store':'count','Promo':'sum','Promo2':'sum'}).reset_index()"
   ]
  },
  {
   "cell_type": "code",
   "execution_count": 347,
   "metadata": {
    "collapsed": false
   },
   "outputs": [
    {
     "data": {
      "text/html": [
       "<div>\n",
       "<table border=\"1\" class=\"dataframe\">\n",
       "  <thead>\n",
       "    <tr style=\"text-align: right;\">\n",
       "      <th></th>\n",
       "      <th>Assortment</th>\n",
       "      <th>Promo</th>\n",
       "      <th>Customers</th>\n",
       "      <th>Promo2</th>\n",
       "      <th>Sales</th>\n",
       "      <th>Store</th>\n",
       "    </tr>\n",
       "  </thead>\n",
       "  <tbody>\n",
       "    <tr>\n",
       "      <th>0</th>\n",
       "      <td>basic</td>\n",
       "      <td>206917</td>\n",
       "      <td>3.443259e+08</td>\n",
       "      <td>6600</td>\n",
       "      <td>3.053790e+09</td>\n",
       "      <td>593</td>\n",
       "    </tr>\n",
       "    <tr>\n",
       "      <th>1</th>\n",
       "      <td>extended</td>\n",
       "      <td>182888</td>\n",
       "      <td>3.069143e+08</td>\n",
       "      <td>7978</td>\n",
       "      <td>2.982794e+09</td>\n",
       "      <td>513</td>\n",
       "    </tr>\n",
       "    <tr>\n",
       "      <th>2</th>\n",
       "      <td>extra</td>\n",
       "      <td>3272</td>\n",
       "      <td>1.772375e+07</td>\n",
       "      <td>236</td>\n",
       "      <td>7.396227e+07</td>\n",
       "      <td>9</td>\n",
       "    </tr>\n",
       "  </tbody>\n",
       "</table>\n",
       "</div>"
      ],
      "text/plain": [
       "  Assortment   Promo     Customers  Promo2         Sales  Store\n",
       "0      basic  206917  3.443259e+08    6600  3.053790e+09    593\n",
       "1   extended  182888  3.069143e+08    7978  2.982794e+09    513\n",
       "2      extra    3272  1.772375e+07     236  7.396227e+07      9"
      ]
     },
     "execution_count": 347,
     "metadata": {},
     "output_type": "execute_result"
    }
   ],
   "source": [
    "gr_store_sales_agg"
   ]
  },
  {
   "cell_type": "code",
   "execution_count": 348,
   "metadata": {
    "collapsed": false
   },
   "outputs": [],
   "source": [
    "fig = {\n",
    "  \"data\": [\n",
    "    {\n",
    "      \"values\": gr_store_sales_agg.Store,\n",
    "      \"labels\": gr_store_sales_agg.Assortment,\n",
    "      \"domain\": {\"x\": [0, .33]},\n",
    "      \"name\": \"Store\",\n",
    "      \"hoverinfo\":\"label+percent+name\",\n",
    "      \"hole\": .4,\n",
    "      \"type\": \"pie\"\n",
    "    },     \n",
    "    {\n",
    "      \"values\": gr_store_sales_agg.Customers,\n",
    "      \"labels\":gr_store_sales_agg.Assortment,\n",
    "      \"text\":\"Customers\",\n",
    "      \"textposition\":\"inside\",\n",
    "      \"domain\": {\"x\": [.33, .66]},\n",
    "      \"name\": \"Customers\",\n",
    "      \"hoverinfo\":\"label+percent+name\",\n",
    "      \"hole\": .4,\n",
    "      \"type\": \"pie\"\n",
    "    }, \n",
    "    {\n",
    "      \"values\": gr_store_sales_agg.Sales,\n",
    "      \"labels\":gr_store_sales_agg.Assortment,\n",
    "      \"text\":\"Sales\",\n",
    "      \"textposition\":\"inside\",\n",
    "      \"domain\": {\"x\": [.66, 1]},\n",
    "      \"name\": \"Sales\",\n",
    "      \"hoverinfo\":\"label+percent+name\",\n",
    "      \"hole\": .4,\n",
    "      \"type\": \"pie\"\n",
    "    },\n",
    "  ],\n",
    "  \"layout\": {\n",
    "        \"title\":\"Percentage by Assortment Type\",\n",
    "        \"annotations\": [\n",
    "            {\n",
    "                \"font\": {\n",
    "                    \"size\": 20\n",
    "                },\n",
    "                \"showarrow\": False,\n",
    "                \"text\": \"Store\",\n",
    "                \"x\": 0.10,\n",
    "                \"y\": 0.5\n",
    "            },\n",
    "            {\n",
    "                \"font\": {\n",
    "                    \"size\": 20\n",
    "                },\n",
    "                \"showarrow\": False,\n",
    "                \"text\": \"Customers\",\n",
    "                \"x\": 0.5,\n",
    "                \"y\": 0.5\n",
    "            },\n",
    "            {\n",
    "                \"font\": {\n",
    "                    \"size\": 20\n",
    "                },\n",
    "                \"showarrow\": False,\n",
    "                \"text\": \"Sales\",\n",
    "                \"x\": 0.9,\n",
    "                \"y\": 0.5\n",
    "            }\n",
    "        ]\n",
    "    }\n",
    "}\n",
    "\n",
    "url = py.plot(fig, filename='Global Emissions 1990-2011')"
   ]
  },
  {
   "cell_type": "code",
   "execution_count": null,
   "metadata": {
    "collapsed": true
   },
   "outputs": [],
   "source": []
  },
  {
   "cell_type": "code",
   "execution_count": null,
   "metadata": {
    "collapsed": true
   },
   "outputs": [],
   "source": []
  }
 ],
 "metadata": {
  "kernelspec": {
   "display_name": "Python 2",
   "language": "python",
   "name": "python2"
  },
  "language_info": {
   "codemirror_mode": {
    "name": "ipython",
    "version": 2
   },
   "file_extension": ".py",
   "mimetype": "text/x-python",
   "name": "python",
   "nbconvert_exporter": "python",
   "pygments_lexer": "ipython2",
   "version": "2.7.10"
  }
 },
 "nbformat": 4,
 "nbformat_minor": 0
}
