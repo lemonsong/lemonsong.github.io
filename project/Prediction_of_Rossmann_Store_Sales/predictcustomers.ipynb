{
 "cells": [
  {
   "cell_type": "code",
   "execution_count": 170,
   "metadata": {
    "collapsed": true
   },
   "outputs": [],
   "source": [
    "# -*- coding: utf-8 -*-\n",
    "\"\"\"\n",
    "Created on Fri Nov 27 23:01:16 2015\n",
    "\n",
    "@author: yilin\n",
    "\"\"\"\n",
    "# useful code: https://www.kaggle.com/cast42/rossmann-store-sales/xgboost-in-python-with-rmspe-v2/code\n",
    "import pandas as pd\n",
    "import numpy as np\n",
    "import re\n",
    "from dateutil.parser import parse\n",
    "import random\n",
    "import matplotlib.pyplot as plt\n",
    "import seaborn as sns\n",
    "sns.set(context=\"paper\", font=\"monospace\")\n",
    "import plotly\n",
    "import plotly.plotly as py\n",
    "py.sign_in('lemonsong', '3lcplsq1a3')\n",
    "import plotly.graph_objs as go\n",
    "\n",
    "#import datetime\n",
    "\n",
    "from sklearn.utils import shuffle\n",
    "from sklearn import preprocessing\n",
    "from numpy import float32\n",
    "from sklearn.preprocessing import Imputer"
   ]
  },
  {
   "cell_type": "code",
   "execution_count": 171,
   "metadata": {
    "collapsed": true
   },
   "outputs": [],
   "source": [
    "def getxy(x):\n",
    "    y = x.Customers\n",
    "    x.drop('Customers', axis=1, inplace=True)\n",
    "    #x.drop('Store', axis=1, inplace=True)\n",
    "    return x,y"
   ]
  },
  {
   "cell_type": "code",
   "execution_count": 44,
   "metadata": {
    "collapsed": true
   },
   "outputs": [],
   "source": [
    "data = pd.read_csv(\"train0forcustomers.csv\")\n",
    "data = data[(data['Year']==2013) & (data['Month']==8) | (data['Year']==2014) & (data['Month']==8) |\\\n",
    "            (data['Year']==2013) & (data['Month']==9) | (data['Year']==2014) & (data['Month']==9) |\\\n",
    "           (data['Year']==2015) & (data['Month']==6) | (data['Year']==2014) & (data['Month']==5) |\n",
    "           (data['Year']==2015) & (data['Month']==4) ]\n",
    "\n",
    "x,y=getxy(data)"
   ]
  },
  {
   "cell_type": "code",
   "execution_count": 45,
   "metadata": {
    "collapsed": true
   },
   "outputs": [],
   "source": [
    "data1 = pd.read_csv(\"train1forcustomers.csv\")\n",
    "data1 = data1[(data1['Year']==2013) & (data1['Month']==8) | (data1['Year']==2014) & (data1['Month']==8) |\\\n",
    "            (data1['Year']==2013) & (data1['Month']==9) | (data1['Year']==2014) & (data1['Month']==9) |\\\n",
    "           (data1['Year']==2015) & (data1['Month']==6) | (data1['Year']==2014) & (data1['Month']==5) |\n",
    "           (data1['Year']==2015) & (data1['Month']==4) ]\n",
    "x1,y1=getxy(data1)"
   ]
  },
  {
   "cell_type": "code",
   "execution_count": 96,
   "metadata": {
    "collapsed": true
   },
   "outputs": [],
   "source": [
    "data = pd.read_csv(\"train0forcustomers.csv\")\n",
    "data = data[(data['Year']==2015) & (data['Month']==6) | (data['Year']==2014) & (data['Month']==5) |\n",
    "           (data['Year']==2015) & (data['Month']==4) ]\n",
    "\n",
    "x,y=getxy(data)"
   ]
  },
  {
   "cell_type": "code",
   "execution_count": 97,
   "metadata": {
    "collapsed": true
   },
   "outputs": [],
   "source": [
    "data1 = pd.read_csv(\"train1forcustomers.csv\")\n",
    "data1 = data1[(data1['Year']==2015) & (data1['Month']==6) | (data1['Year']==2014) & (data1['Month']==5) |\n",
    "           (data1['Year']==2015) & (data1['Month']==4) ]\n",
    "x1,y1=getxy(data1)"
   ]
  },
  {
   "cell_type": "code",
   "execution_count": 187,
   "metadata": {
    "collapsed": true
   },
   "outputs": [],
   "source": [
    "data = pd.read_csv(\"train0forcustomers.csv\")\n",
    "data = data[(data['Year']==2013) & (data['Month']==7) | (data['Year']==2014) & (data['Month']==7) |\\\n",
    "            (data['Year']==2013) & (data['Month']==8) | (data['Year']==2014) & (data['Month']==8) |\\\n",
    "            (data['Year']==2013) & (data['Month']==9) | (data['Year']==2014) & (data['Month']==9) |\\\n",
    "            (data['Year']==2015) & (data['Month']==7) ]\n",
    "\n",
    "x,y=getxy(data)"
   ]
  },
  {
   "cell_type": "code",
   "execution_count": 189,
   "metadata": {
    "collapsed": false
   },
   "outputs": [],
   "source": [
    "data1 = pd.read_csv(\"train1forcustomers.csv\")\n",
    "data1 = data1[(data1['Year']==2013) & (data1['Month']==7) | (data1['Year']==2014) & (data1['Month']==7) |\\\n",
    "            (data1['Year']==2013) & (data1['Month']==8) | (data1['Year']==2014) & (data1['Month']==8) |\\\n",
    "            (data1['Year']==2013) & (data1['Month']==9) | (data1['Year']==2014) & (data1['Month']==9) |\\\n",
    "            (data1['Year']==2015) & (data1['Month']==7) ]\n",
    "x1,y1=getxy(data1)"
   ]
  },
  {
   "cell_type": "markdown",
   "metadata": {},
   "source": [
    "## Split Data"
   ]
  },
  {
   "cell_type": "code",
   "execution_count": 190,
   "metadata": {
    "collapsed": false
   },
   "outputs": [],
   "source": [
    "def splitdata(x,y):# Split data into train and test\n",
    "    train, test = shuffle(x,y, random_state=15)\n",
    "    offset = int(train.shape[0] * 0.7)\n",
    "    x_train, y_train = train[:offset], test[:offset]\n",
    "    x_test, y_test = train[offset:], test[offset:]\n",
    "    return x_train, y_train,x_test, y_test"
   ]
  },
  {
   "cell_type": "code",
   "execution_count": 191,
   "metadata": {
    "collapsed": true
   },
   "outputs": [],
   "source": [
    "x_train, y_train,x_test, y_test = splitdata(x,y)"
   ]
  },
  {
   "cell_type": "code",
   "execution_count": 192,
   "metadata": {
    "collapsed": false
   },
   "outputs": [
    {
     "name": "stdout",
     "output_type": "stream",
     "text": [
      "Index([u'Store', u'DayOfWeek', u'Promo', u'SchoolHoliday', u'HaveCompetitor',\n",
      "       u'CompetitionDistance', u'Year', u'Month', u'Day', u'Week',\n",
      "       u'StoreType_a', u'StoreType_b', u'StoreType_c', u'StoreType_d',\n",
      "       u'Assortment_a', u'Assortment_b', u'Assortment_c', u'StateHoliday_0',\n",
      "       u'StateHoliday_a', u'CompetitionMonth'],\n",
      "      dtype='object')\n"
     ]
    }
   ],
   "source": [
    "print x_train.columns"
   ]
  },
  {
   "cell_type": "code",
   "execution_count": 193,
   "metadata": {
    "collapsed": true
   },
   "outputs": [],
   "source": [
    "x_train1, y_train1,x_test1, y_test1 = splitdata(x1,y1)"
   ]
  },
  {
   "cell_type": "markdown",
   "metadata": {},
   "source": [
    "## Builde Model"
   ]
  },
  {
   "cell_type": "markdown",
   "metadata": {},
   "source": [
    "##### DT"
   ]
  },
  {
   "cell_type": "code",
   "execution_count": 194,
   "metadata": {
    "collapsed": true
   },
   "outputs": [],
   "source": [
    "from sklearn import tree\n",
    "clf2 = tree.DecisionTreeRegressor(max_features='auto')\n",
    "clf2.fit(x_train, y_train)\n",
    "y_pred2 = clf2.predict(x_test)"
   ]
  },
  {
   "cell_type": "code",
   "execution_count": 195,
   "metadata": {
    "collapsed": true
   },
   "outputs": [],
   "source": [
    "from sklearn import tree\n",
    "clf12 = tree.DecisionTreeRegressor(max_features='auto')\n",
    "clf12.fit(x_train1, y_train1)\n",
    "y_pred12 = clf12.predict(x_test1)"
   ]
  },
  {
   "cell_type": "markdown",
   "metadata": {},
   "source": [
    "##### KNN"
   ]
  },
  {
   "cell_type": "code",
   "execution_count": 199,
   "metadata": {
    "collapsed": true
   },
   "outputs": [],
   "source": [
    "from sklearn.neighbors import KNeighborsRegressor\n",
    "clf3 = KNeighborsRegressor(n_neighbors=5,weights='distance',algorithm='auto')\n",
    "clf3.fit(x_train, y_train)\n",
    "y_pred3=clf3.predict(x_test)"
   ]
  },
  {
   "cell_type": "code",
   "execution_count": 200,
   "metadata": {
    "collapsed": true
   },
   "outputs": [],
   "source": [
    "from sklearn.neighbors import KNeighborsRegressor\n",
    "clf13 = KNeighborsRegressor(n_neighbors=10,weights='distance',algorithm='auto')\n",
    "clf13.fit(x_train1, y_train1)\n",
    "y_pred13=clf13.predict(x_test1)"
   ]
  },
  {
   "cell_type": "markdown",
   "metadata": {},
   "source": [
    "##### RF"
   ]
  },
  {
   "cell_type": "code",
   "execution_count": 201,
   "metadata": {
    "collapsed": false
   },
   "outputs": [],
   "source": [
    "from sklearn.ensemble import RandomForestRegressor\n",
    "clf4 = RandomForestRegressor(n_estimators=100)\n",
    "clf4.fit(x_train, y_train)\n",
    "y_pred4=clf4.predict(x_test)"
   ]
  },
  {
   "cell_type": "code",
   "execution_count": 202,
   "metadata": {
    "collapsed": true
   },
   "outputs": [],
   "source": [
    "from sklearn.ensemble import RandomForestRegressor\n",
    "clf14 = RandomForestRegressor(n_estimators=100)\n",
    "clf14.fit(x_train1, y_train1)\n",
    "y_pred14=clf14.predict(x_test1)"
   ]
  },
  {
   "cell_type": "markdown",
   "metadata": {},
   "source": [
    "## Evaluation"
   ]
  },
  {
   "cell_type": "code",
   "execution_count": 181,
   "metadata": {
    "collapsed": true
   },
   "outputs": [],
   "source": [
    "def rmspe(y, yhat):\n",
    "    return np.sqrt(np.mean((yhat/y-1) ** 2))\n",
    "\n",
    "def rmspe_xg(yhat, y):\n",
    "    y = np.expm1(y)\n",
    "    yhat = np.expm1(yhat)\n",
    "    print y\n",
    "    return \"rmspe\", rmspe(y,yhat)"
   ]
  },
  {
   "cell_type": "code",
   "execution_count": 182,
   "metadata": {
    "collapsed": false
   },
   "outputs": [],
   "source": [
    "def compare(y_test,y_pred,y_test1,y_pred1):\n",
    "    y_test=np.append(y_test,y_test1)\n",
    "    y_pred=np.append(y_pred,y_pred1)\n",
    "    return rmspe(y_test,y_pred)"
   ]
  },
  {
   "cell_type": "markdown",
   "metadata": {},
   "source": [
    "##### DT"
   ]
  },
  {
   "cell_type": "code",
   "execution_count": 196,
   "metadata": {
    "collapsed": false
   },
   "outputs": [
    {
     "name": "stdout",
     "output_type": "stream",
     "text": [
      "0.115054822918\n"
     ]
    }
   ],
   "source": [
    "print rmspe(y_test,y_pred2)"
   ]
  },
  {
   "cell_type": "code",
   "execution_count": 197,
   "metadata": {
    "collapsed": false
   },
   "outputs": [
    {
     "name": "stdout",
     "output_type": "stream",
     "text": [
      "0.118947533529\n"
     ]
    }
   ],
   "source": [
    "print rmspe(y_test1,y_pred12)"
   ]
  },
  {
   "cell_type": "code",
   "execution_count": 198,
   "metadata": {
    "collapsed": false
   },
   "outputs": [
    {
     "name": "stdout",
     "output_type": "stream",
     "text": [
      "0.116955351932\n"
     ]
    }
   ],
   "source": [
    "print compare(y_test,y_pred2,y_test1,y_pred12)"
   ]
  },
  {
   "cell_type": "markdown",
   "metadata": {},
   "source": [
    "##### KNN"
   ]
  },
  {
   "cell_type": "code",
   "execution_count": 203,
   "metadata": {
    "collapsed": false
   },
   "outputs": [
    {
     "name": "stdout",
     "output_type": "stream",
     "text": [
      "0.245184479992\n"
     ]
    }
   ],
   "source": [
    "print rmspe(y_test,y_pred3)"
   ]
  },
  {
   "cell_type": "code",
   "execution_count": 204,
   "metadata": {
    "collapsed": false
   },
   "outputs": [
    {
     "name": "stdout",
     "output_type": "stream",
     "text": [
      "0.233931210729\n"
     ]
    }
   ],
   "source": [
    "print rmspe(y_test1,y_pred13)"
   ]
  },
  {
   "cell_type": "code",
   "execution_count": 205,
   "metadata": {
    "collapsed": false
   },
   "outputs": [
    {
     "name": "stdout",
     "output_type": "stream",
     "text": [
      "0.23980304971\n"
     ]
    }
   ],
   "source": [
    "print compare(y_test,y_pred3,y_test1,y_pred13)"
   ]
  },
  {
   "cell_type": "markdown",
   "metadata": {},
   "source": [
    "##### RF"
   ]
  },
  {
   "cell_type": "code",
   "execution_count": 206,
   "metadata": {
    "collapsed": false
   },
   "outputs": [
    {
     "name": "stdout",
     "output_type": "stream",
     "text": [
      "0.0859897399445\n"
     ]
    }
   ],
   "source": [
    "print rmspe(y_test,y_pred4)"
   ]
  },
  {
   "cell_type": "code",
   "execution_count": 207,
   "metadata": {
    "collapsed": false
   },
   "outputs": [
    {
     "name": "stdout",
     "output_type": "stream",
     "text": [
      "0.0893187668543\n"
     ]
    }
   ],
   "source": [
    "print rmspe(y_test1,y_pred14)"
   ]
  },
  {
   "cell_type": "code",
   "execution_count": 209,
   "metadata": {
    "collapsed": false
   },
   "outputs": [
    {
     "name": "stdout",
     "output_type": "stream",
     "text": [
      "0.0876170220362\n"
     ]
    }
   ],
   "source": [
    "print compare(y_test,y_pred4,y_test1,y_pred14)"
   ]
  },
  {
   "cell_type": "markdown",
   "metadata": {},
   "source": [
    "## Make Prediction"
   ]
  },
  {
   "cell_type": "code",
   "execution_count": 210,
   "metadata": {
    "collapsed": false
   },
   "outputs": [],
   "source": [
    "def makeprediction(testfile,feature,clf):\n",
    "    #train_x = pd.read_csv(trainfile).astype(float32)\n",
    "    pre_x = pd.read_csv(testfile).astype(float32)\n",
    "    #print np.all(np.isfinite(train_x))\n",
    "    print np.all(np.isfinite(pre_x))\n",
    "    \n",
    "    \n",
    "    #train_x,train_y=getxy(train_x)\n",
    "    \n",
    "    \n",
    "    pre_y = clf.predict(pre_x[feature])\n",
    "    prediction = pd.concat([pre_x, pd.Series(pre_y,name='Customers')], axis=1)\n",
    "\n",
    "    return prediction\n",
    "feature0=[\"Store\",\"DayOfWeek\",\"Promo\",\"SchoolHoliday\",'HaveCompetitor',\n",
    "          \"CompetitionDistance\",\n",
    "          \"Year\",\"Month\",\"Day\",\"Week\",\n",
    "          \"StoreType_a\",\"StoreType_b\",\"StoreType_c\",\"StoreType_d\",\n",
    "          \"Assortment_a\",\"Assortment_b\",\"Assortment_c\",\n",
    "           \"StateHoliday_0\",\"StateHoliday_a\",\n",
    "          \"CompetitionMonth\"\n",
    "          ]\n",
    "feature1=[\"Store\",\"DayOfWeek\",\"Promo\",\"SchoolHoliday\",'HaveCompetitor',\n",
    "          \"CompetitionDistance\",\n",
    "          \"Year\",\"Month\",\"Day\",\"Week\",\n",
    "          \"StoreType_a\",\"StoreType_b\",\"StoreType_c\",\"StoreType_d\",\n",
    "          \"Assortment_a\",\"Assortment_b\",\"Assortment_c\",\n",
    "            \"StateHoliday_0\",\"StateHoliday_a\",\n",
    "          \"CompetitionMonth\",\n",
    "          \"Promo2Month\",\"Promo2Week\"\n",
    "          ]"
   ]
  },
  {
   "cell_type": "code",
   "execution_count": 211,
   "metadata": {
    "collapsed": false
   },
   "outputs": [
    {
     "name": "stdout",
     "output_type": "stream",
     "text": [
      "True\n"
     ]
    }
   ],
   "source": [
    "prediction0=makeprediction('pre0.csv',feature0,clf4)\n"
   ]
  },
  {
   "cell_type": "code",
   "execution_count": 212,
   "metadata": {
    "collapsed": false
   },
   "outputs": [
    {
     "name": "stdout",
     "output_type": "stream",
     "text": [
      "True\n"
     ]
    }
   ],
   "source": [
    "prediction1=makeprediction('pre1.csv',feature1,clf14)\n"
   ]
  },
  {
   "cell_type": "code",
   "execution_count": 213,
   "metadata": {
    "collapsed": true
   },
   "outputs": [],
   "source": [
    "prediction0.to_csv(\"pre0wtcustomers.csv\", index=False)\n",
    "prediction1.to_csv(\"pre1wtcustomers.csv\", index=False)\n"
   ]
  },
  {
   "cell_type": "code",
   "execution_count": null,
   "metadata": {
    "collapsed": true
   },
   "outputs": [],
   "source": []
  }
 ],
 "metadata": {
  "kernelspec": {
   "display_name": "Python 2",
   "language": "python",
   "name": "python2"
  },
  "language_info": {
   "codemirror_mode": {
    "name": "ipython",
    "version": 2
   },
   "file_extension": ".py",
   "mimetype": "text/x-python",
   "name": "python",
   "nbconvert_exporter": "python",
   "pygments_lexer": "ipython2",
   "version": "2.7.10"
  }
 },
 "nbformat": 4,
 "nbformat_minor": 0
}
